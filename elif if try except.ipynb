{
 "cells": [
  {
   "cell_type": "code",
   "execution_count": null,
   "id": "4d41a38d",
   "metadata": {},
   "outputs": [],
   "source": [
    "try:\n",
    "    score=float(input(\"enter score between 0.0 and 1.0:\"))\n",
    "    grade=''\n",
    "    if score>=0.9 and score <=1.0:\n",
    "        grade='A'\n",
    "    elif score>=0.8 and score <=0.9:\n",
    "        grade='B'\n",
    "    elif score>=0.7 and score<=0.8:\n",
    "        grade='C'\n",
    "    elif score>=0.6 and score<=0.7:\n",
    "        grade='D'\n",
    "    elif score<0.6:\n",
    "        grade='F'\n",
    "    else:\n",
    "        print(\"bad score\")\n",
    "    print(grade)\n",
    "except:\n",
    "      print('bad score')\n",
    "    \n",
    "        "
   ]
  }
 ],
 "metadata": {
  "kernelspec": {
   "display_name": "Python 3",
   "language": "python",
   "name": "python3"
  },
  "language_info": {
   "codemirror_mode": {
    "name": "ipython",
    "version": 3
   },
   "file_extension": ".py",
   "mimetype": "text/x-python",
   "name": "python",
   "nbconvert_exporter": "python",
   "pygments_lexer": "ipython3",
   "version": "3.8.8"
  }
 },
 "nbformat": 4,
 "nbformat_minor": 5
}
