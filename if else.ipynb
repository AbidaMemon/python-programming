{
 "cells": [
  {
   "cell_type": "code",
   "execution_count": null,
   "id": "e649bf81",
   "metadata": {},
   "outputs": [],
   "source": [
    "hours=int(input(\"enter hours\"))"
   ]
  },
  {
   "cell_type": "code",
   "execution_count": null,
   "id": "3d54b9ed",
   "metadata": {},
   "outputs": [],
   "source": [
    "rate=float(input(\"enter rate\"))"
   ]
  },
  {
   "cell_type": "code",
   "execution_count": null,
   "id": "639d3293",
   "metadata": {},
   "outputs": [],
   "source": [
    "pay=0.0"
   ]
  },
  {
   "cell_type": "code",
   "execution_count": null,
   "id": "d3aab84e",
   "metadata": {},
   "outputs": [],
   "source": [
    "if(hours<=40):"
   ]
  },
  {
   "cell_type": "code",
   "execution_count": null,
   "id": "4709e351",
   "metadata": {},
   "outputs": [],
   "source": [
    "pay=hours*rate"
   ]
  },
  {
   "cell_type": "code",
   "execution_count": null,
   "id": "dd20aaa7",
   "metadata": {},
   "outputs": [],
   "source": [
    "else:"
   ]
  },
  {
   "cell_type": "code",
   "execution_count": null,
   "id": "fc019305",
   "metadata": {},
   "outputs": [],
   "source": [
    "overtime=hours-40"
   ]
  },
  {
   "cell_type": "code",
   "execution_count": null,
   "id": "b1d2bf1a",
   "metadata": {},
   "outputs": [],
   "source": [
    "pay=40*rate+overtime*rate*1.5"
   ]
  },
  {
   "cell_type": "code",
   "execution_count": null,
   "id": "465b3a70",
   "metadata": {},
   "outputs": [],
   "source": [
    "print(pay)"
   ]
  },
  {
   "cell_type": "code",
   "execution_count": null,
   "id": "c3a8a06b",
   "metadata": {},
   "outputs": [],
   "source": []
  }
 ],
 "metadata": {
  "kernelspec": {
   "display_name": "Python 3",
   "language": "python",
   "name": "python3"
  },
  "language_info": {
   "codemirror_mode": {
    "name": "ipython",
    "version": 3
   },
   "file_extension": ".py",
   "mimetype": "text/x-python",
   "name": "python",
   "nbconvert_exporter": "python",
   "pygments_lexer": "ipython3",
   "version": "3.8.8"
  }
 },
 "nbformat": 4,
 "nbformat_minor": 5
}
