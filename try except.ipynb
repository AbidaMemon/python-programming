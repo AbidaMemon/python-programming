{
 "cells": [
  {
   "cell_type": "code",
   "execution_count": 11,
   "id": "01f5ac5a",
   "metadata": {},
   "outputs": [
    {
     "name": "stdout",
     "output_type": "stream",
     "text": [
      "enter hours:ten\n",
      "enter numric error\n"
     ]
    }
   ],
   "source": [
    "try:\n",
    "    hours= int(input(\"enter hours:\"))\n",
    "    rate= float(input(\"enter rate:\"))\n",
    "    pay=0.0\n",
    "    if(hours<=40):\n",
    "        pay=hours*rate\n",
    "    else:\n",
    "        overtime=hours*rate\n",
    "        40*rate+overtime*rate*1.5\n",
    "    print(\"pay is\",pay)\n",
    "except:\n",
    "    print(\" please enter numric error\")\n",
    "    \n",
    "    "
   ]
  },
  {
   "cell_type": "code",
   "execution_count": null,
   "id": "e2debaee",
   "metadata": {},
   "outputs": [],
   "source": []
  }
 ],
 "metadata": {
  "kernelspec": {
   "display_name": "Python 3",
   "language": "python",
   "name": "python3"
  },
  "language_info": {
   "codemirror_mode": {
    "name": "ipython",
    "version": 3
   },
   "file_extension": ".py",
   "mimetype": "text/x-python",
   "name": "python",
   "nbconvert_exporter": "python",
   "pygments_lexer": "ipython3",
   "version": "3.8.8"
  }
 },
 "nbformat": 4,
 "nbformat_minor": 5
}
